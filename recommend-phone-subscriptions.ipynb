{
 "cells": [
  {
   "cell_type": "markdown",
   "id": "70f826ef",
   "metadata": {},
   "source": [
    "# Machine Learning Project"
   ]
  },
  {
   "cell_type": "markdown",
   "id": "ab3dfb80",
   "metadata": {},
   "source": [
    "## Project description"
   ]
  },
  {
   "cell_type": "markdown",
   "id": "ba9cae5a",
   "metadata": {},
   "source": [
    "Project description\n",
    "Mobile carrier Megaline has found out that many of their subscribers use legacy plans. They want to develop a model that would analyze subscribers' behavior and recommend one of Megaline's newer plans: *Smart* or *Ultra*.\n",
    "We have access to behavior data about subscribers who have already switched to the new plans (from the project for the Statistical Data Analysis course). For this classification task, you need to develop a model that will pick the right plan with the highest possible accuracy."
   ]
  },
  {
   "cell_type": "markdown",
   "id": "cd2c9ba8",
   "metadata": {},
   "source": [
    "## Opening and investigating the data"
   ]
  },
  {
   "cell_type": "code",
   "execution_count": 2,
   "id": "63d645c4",
   "metadata": {},
   "outputs": [],
   "source": [
    "#making sure I and the reviewer have the same versions\n",
    "#!pip install -U matplotlib\n",
    "#!pip install -U numpy\n",
    "#!pip install -U pandas\n",
    "#!pip install -U scipy"
   ]
  },
  {
   "cell_type": "code",
   "execution_count": 3,
   "id": "518aa8f5",
   "metadata": {},
   "outputs": [],
   "source": [
    "import warnings\n",
    "#warnings.filterwarnings('ignore')"
   ]
  },
  {
   "cell_type": "code",
   "execution_count": 76,
   "id": "587cb48d",
   "metadata": {},
   "outputs": [],
   "source": [
    "import matplotlib.pyplot as plt\n",
    "import pandas as pd\n",
    "from sklearn.tree import DecisionTreeClassifier\n",
    "from sklearn.linear_model import LogisticRegression\n",
    "from sklearn.ensemble import RandomForestClassifier\n",
    "from sklearn.metrics import accuracy_score\n",
    "from sklearn.model_selection import train_test_split\n",
    "from sklearn.svm import SVC\n",
    "\n",
    "import numpy as np\n",
    "#import math\n",
    "#from scipy import stats as st"
   ]
  },
  {
   "cell_type": "code",
   "execution_count": 5,
   "id": "91810c05",
   "metadata": {},
   "outputs": [],
   "source": [
    "try:\n",
    "    # If we are online on the Jupyter Hub, we open the online database\n",
    "    behavior_data=pd.read_csv(\"/datasets/users_behavior.csv\")\n",
    "except:\n",
    "    # If we are locally we open the local database\n",
    "    behavior_data=pd.read_csv(\"dataset/users_behavior.csv\")"
   ]
  },
  {
   "cell_type": "markdown",
   "id": "5bce5a2e",
   "metadata": {},
   "source": [
    "### Checking data"
   ]
  },
  {
   "cell_type": "code",
   "execution_count": 6,
   "id": "5399c6e2",
   "metadata": {
    "scrolled": true
   },
   "outputs": [
    {
     "name": "stdout",
     "output_type": "stream",
     "text": [
      "(3214, 5)\n",
      "<class 'pandas.core.frame.DataFrame'>\n",
      "RangeIndex: 3214 entries, 0 to 3213\n",
      "Data columns (total 5 columns):\n",
      " #   Column    Non-Null Count  Dtype  \n",
      "---  ------    --------------  -----  \n",
      " 0   calls     3214 non-null   float64\n",
      " 1   minutes   3214 non-null   float64\n",
      " 2   messages  3214 non-null   float64\n",
      " 3   mb_used   3214 non-null   float64\n",
      " 4   is_ultra  3214 non-null   int64  \n",
      "dtypes: float64(4), int64(1)\n",
      "memory usage: 125.7 KB\n",
      "             calls      minutes     messages       mb_used     is_ultra\n",
      "count  3214.000000  3214.000000  3214.000000   3214.000000  3214.000000\n",
      "mean     63.038892   438.208787    38.281269  17207.673836     0.306472\n",
      "std      33.236368   234.569872    36.148326   7570.968246     0.461100\n",
      "min       0.000000     0.000000     0.000000      0.000000     0.000000\n",
      "25%      40.000000   274.575000     9.000000  12491.902500     0.000000\n",
      "50%      62.000000   430.600000    30.000000  16943.235000     0.000000\n",
      "75%      82.000000   571.927500    57.000000  21424.700000     1.000000\n",
      "max     244.000000  1632.060000   224.000000  49745.730000     1.000000\n"
     ]
    },
    {
     "data": {
      "text/html": [
       "<div>\n",
       "<style scoped>\n",
       "    .dataframe tbody tr th:only-of-type {\n",
       "        vertical-align: middle;\n",
       "    }\n",
       "\n",
       "    .dataframe tbody tr th {\n",
       "        vertical-align: top;\n",
       "    }\n",
       "\n",
       "    .dataframe thead th {\n",
       "        text-align: right;\n",
       "    }\n",
       "</style>\n",
       "<table border=\"1\" class=\"dataframe\">\n",
       "  <thead>\n",
       "    <tr style=\"text-align: right;\">\n",
       "      <th></th>\n",
       "      <th>calls</th>\n",
       "      <th>minutes</th>\n",
       "      <th>messages</th>\n",
       "      <th>mb_used</th>\n",
       "      <th>is_ultra</th>\n",
       "    </tr>\n",
       "  </thead>\n",
       "  <tbody>\n",
       "    <tr>\n",
       "      <th>0</th>\n",
       "      <td>40.0</td>\n",
       "      <td>311.90</td>\n",
       "      <td>83.0</td>\n",
       "      <td>19915.42</td>\n",
       "      <td>0</td>\n",
       "    </tr>\n",
       "    <tr>\n",
       "      <th>1</th>\n",
       "      <td>85.0</td>\n",
       "      <td>516.75</td>\n",
       "      <td>56.0</td>\n",
       "      <td>22696.96</td>\n",
       "      <td>0</td>\n",
       "    </tr>\n",
       "    <tr>\n",
       "      <th>2</th>\n",
       "      <td>77.0</td>\n",
       "      <td>467.66</td>\n",
       "      <td>86.0</td>\n",
       "      <td>21060.45</td>\n",
       "      <td>0</td>\n",
       "    </tr>\n",
       "    <tr>\n",
       "      <th>3</th>\n",
       "      <td>106.0</td>\n",
       "      <td>745.53</td>\n",
       "      <td>81.0</td>\n",
       "      <td>8437.39</td>\n",
       "      <td>1</td>\n",
       "    </tr>\n",
       "    <tr>\n",
       "      <th>4</th>\n",
       "      <td>66.0</td>\n",
       "      <td>418.74</td>\n",
       "      <td>1.0</td>\n",
       "      <td>14502.75</td>\n",
       "      <td>0</td>\n",
       "    </tr>\n",
       "    <tr>\n",
       "      <th>...</th>\n",
       "      <td>...</td>\n",
       "      <td>...</td>\n",
       "      <td>...</td>\n",
       "      <td>...</td>\n",
       "      <td>...</td>\n",
       "    </tr>\n",
       "    <tr>\n",
       "      <th>3209</th>\n",
       "      <td>122.0</td>\n",
       "      <td>910.98</td>\n",
       "      <td>20.0</td>\n",
       "      <td>35124.90</td>\n",
       "      <td>1</td>\n",
       "    </tr>\n",
       "    <tr>\n",
       "      <th>3210</th>\n",
       "      <td>25.0</td>\n",
       "      <td>190.36</td>\n",
       "      <td>0.0</td>\n",
       "      <td>3275.61</td>\n",
       "      <td>0</td>\n",
       "    </tr>\n",
       "    <tr>\n",
       "      <th>3211</th>\n",
       "      <td>97.0</td>\n",
       "      <td>634.44</td>\n",
       "      <td>70.0</td>\n",
       "      <td>13974.06</td>\n",
       "      <td>0</td>\n",
       "    </tr>\n",
       "    <tr>\n",
       "      <th>3212</th>\n",
       "      <td>64.0</td>\n",
       "      <td>462.32</td>\n",
       "      <td>90.0</td>\n",
       "      <td>31239.78</td>\n",
       "      <td>0</td>\n",
       "    </tr>\n",
       "    <tr>\n",
       "      <th>3213</th>\n",
       "      <td>80.0</td>\n",
       "      <td>566.09</td>\n",
       "      <td>6.0</td>\n",
       "      <td>29480.52</td>\n",
       "      <td>1</td>\n",
       "    </tr>\n",
       "  </tbody>\n",
       "</table>\n",
       "<p>3214 rows × 5 columns</p>\n",
       "</div>"
      ],
      "text/plain": [
       "      calls  minutes  messages   mb_used  is_ultra\n",
       "0      40.0   311.90      83.0  19915.42         0\n",
       "1      85.0   516.75      56.0  22696.96         0\n",
       "2      77.0   467.66      86.0  21060.45         0\n",
       "3     106.0   745.53      81.0   8437.39         1\n",
       "4      66.0   418.74       1.0  14502.75         0\n",
       "...     ...      ...       ...       ...       ...\n",
       "3209  122.0   910.98      20.0  35124.90         1\n",
       "3210   25.0   190.36       0.0   3275.61         0\n",
       "3211   97.0   634.44      70.0  13974.06         0\n",
       "3212   64.0   462.32      90.0  31239.78         0\n",
       "3213   80.0   566.09       6.0  29480.52         1\n",
       "\n",
       "[3214 rows x 5 columns]"
      ]
     },
     "execution_count": 6,
     "metadata": {},
     "output_type": "execute_result"
    }
   ],
   "source": [
    "print(behavior_data.shape)\n",
    "behavior_data.info()\n",
    "print(behavior_data.describe())\n",
    "behavior_data"
   ]
  },
  {
   "cell_type": "markdown",
   "id": "cb49ef30",
   "metadata": {},
   "source": [
    "### Conclusion"
   ]
  },
  {
   "cell_type": "markdown",
   "id": "dfd4b7c2",
   "metadata": {},
   "source": [
    "We see no obvious flaws with the database. We thank the Megaline company for providing us quality data :)"
   ]
  },
  {
   "cell_type": "markdown",
   "id": "2e77486d",
   "metadata": {},
   "source": [
    "## Checking our features\n",
    "It is clear that our target for classification is the `is_ultra` column.\n",
    "Before splitting the data we want to see how much are the rest of the columns influencing our target. This can help us decide which features we need to take into account. For this we use a correlation table."
   ]
  },
  {
   "cell_type": "code",
   "execution_count": 97,
   "id": "63382054",
   "metadata": {
    "scrolled": true
   },
   "outputs": [
    {
     "data": {
      "text/html": [
       "<div>\n",
       "<style scoped>\n",
       "    .dataframe tbody tr th:only-of-type {\n",
       "        vertical-align: middle;\n",
       "    }\n",
       "\n",
       "    .dataframe tbody tr th {\n",
       "        vertical-align: top;\n",
       "    }\n",
       "\n",
       "    .dataframe thead th {\n",
       "        text-align: right;\n",
       "    }\n",
       "</style>\n",
       "<table border=\"1\" class=\"dataframe\">\n",
       "  <thead>\n",
       "    <tr style=\"text-align: right;\">\n",
       "      <th></th>\n",
       "      <th>calls</th>\n",
       "      <th>minutes</th>\n",
       "      <th>messages</th>\n",
       "      <th>mb_used</th>\n",
       "      <th>is_ultra</th>\n",
       "    </tr>\n",
       "  </thead>\n",
       "  <tbody>\n",
       "    <tr>\n",
       "      <th>calls</th>\n",
       "      <td>1.000000</td>\n",
       "      <td>0.982083</td>\n",
       "      <td>0.177385</td>\n",
       "      <td>0.286442</td>\n",
       "      <td>0.207122</td>\n",
       "    </tr>\n",
       "    <tr>\n",
       "      <th>minutes</th>\n",
       "      <td>0.982083</td>\n",
       "      <td>1.000000</td>\n",
       "      <td>0.173110</td>\n",
       "      <td>0.280967</td>\n",
       "      <td>0.206955</td>\n",
       "    </tr>\n",
       "    <tr>\n",
       "      <th>messages</th>\n",
       "      <td>0.177385</td>\n",
       "      <td>0.173110</td>\n",
       "      <td>1.000000</td>\n",
       "      <td>0.195721</td>\n",
       "      <td>0.203830</td>\n",
       "    </tr>\n",
       "    <tr>\n",
       "      <th>mb_used</th>\n",
       "      <td>0.286442</td>\n",
       "      <td>0.280967</td>\n",
       "      <td>0.195721</td>\n",
       "      <td>1.000000</td>\n",
       "      <td>0.198568</td>\n",
       "    </tr>\n",
       "    <tr>\n",
       "      <th>is_ultra</th>\n",
       "      <td>0.207122</td>\n",
       "      <td>0.206955</td>\n",
       "      <td>0.203830</td>\n",
       "      <td>0.198568</td>\n",
       "      <td>1.000000</td>\n",
       "    </tr>\n",
       "  </tbody>\n",
       "</table>\n",
       "</div>"
      ],
      "text/plain": [
       "             calls   minutes  messages   mb_used  is_ultra\n",
       "calls     1.000000  0.982083  0.177385  0.286442  0.207122\n",
       "minutes   0.982083  1.000000  0.173110  0.280967  0.206955\n",
       "messages  0.177385  0.173110  1.000000  0.195721  0.203830\n",
       "mb_used   0.286442  0.280967  0.195721  1.000000  0.198568\n",
       "is_ultra  0.207122  0.206955  0.203830  0.198568  1.000000"
      ]
     },
     "execution_count": 97,
     "metadata": {},
     "output_type": "execute_result"
    }
   ],
   "source": [
    "behavior_data.corr()"
   ]
  },
  {
   "cell_type": "markdown",
   "id": "7fe78a94",
   "metadata": {},
   "source": [
    "We see that each feature, calls, minutes, messages and mb used have an approximately equal (and pretty small) part in influencing our result, about 0.2."
   ]
  },
  {
   "cell_type": "markdown",
   "id": "43d93d2e",
   "metadata": {},
   "source": [
    "## Splitting the data"
   ]
  },
  {
   "cell_type": "markdown",
   "id": "1b1f137c",
   "metadata": {},
   "source": [
    "The source data has to be split into three parts: training, validation, and test. A common ratio for such a split is  6:2:2 ratio. Another possible ration is 8:1:1. In order to see which ratio give the best results, we will try both ratios. Using `train_test_split` we first split into 6:4 and 8:2 train and temp sets and then the temp set we further split it into equal validation and test sets."
   ]
  },
  {
   "cell_type": "code",
   "execution_count": 11,
   "id": "576d8726",
   "metadata": {
    "scrolled": true
   },
   "outputs": [
    {
     "name": "stdout",
     "output_type": "stream",
     "text": [
      "The sets for the 6:2:2 split have shapes: (1928, 4) (1928,) (643, 4) (643,) (643, 4) (643,)\n",
      "The sets for the 8:1:1 split have shapes: (2571, 4) (2571,) (321, 4) (321,) (322, 4) (322,)\n"
     ]
    }
   ],
   "source": [
    "X = behavior_data.drop(columns = ['is_ultra']).copy()\n",
    "y = behavior_data['is_ultra']\n",
    "\n",
    "# In the first step we will split the data in training and remaining dataset\n",
    "X_train6, X_temp, y_train6, y_temp = train_test_split(X,y, train_size=0.6)\n",
    "\n",
    "# Now since we want the valid and test size to be equal (10% each of overall data). \n",
    "# we have to define valid_size=0.5 (that is 50% of remaining data)\n",
    "test_size = 0.5\n",
    "X_valid2, X_test2, y_valid2, y_test2 = train_test_split(X_temp,y_temp, test_size=0.5)\n",
    "\n",
    "# We do the same thing for the 8:1:1 split\n",
    "X_train8, X_temp, y_train8, y_temp = train_test_split(X,y, train_size=0.8)\n",
    "\n",
    "# Now since we want the valid and test size to be equal (10% each of overall data). \n",
    "# we have to define valid_size=0.5 (that is 50% of remaining data)\n",
    "test_size = 0.5\n",
    "X_valid1, X_test1, y_valid1, y_test1 = train_test_split(X_temp,y_temp, test_size=0.5)\n",
    "\n",
    "print('The sets for the 6:2:2 split have shapes:',X_train6.shape, y_train6.shape,\n",
    "          X_valid2.shape, y_valid2.shape,\n",
    "          X_test2.shape, y_test2.shape)\n",
    "print('The sets for the 8:1:1 split have shapes:',X_train8.shape, y_train8.shape,\n",
    "          X_valid1.shape, y_valid1.shape,\n",
    "          X_test1.shape, y_test1.shape)"
   ]
  },
  {
   "cell_type": "markdown",
   "id": "ee865e8c",
   "metadata": {},
   "source": [
    "## Checking the Classification Models"
   ]
  },
  {
   "cell_type": "markdown",
   "id": "95ef8775",
   "metadata": {},
   "source": [
    "We create a DataFrame which will hold the accuracy of the varios models and splits we will try."
   ]
  },
  {
   "cell_type": "code",
   "execution_count": 121,
   "id": "4ccc146e",
   "metadata": {},
   "outputs": [],
   "source": [
    "result_models=pd.DataFrame(index=['DTC','RFC','LR'],columns=['622','811'])"
   ]
  },
  {
   "cell_type": "markdown",
   "id": "f4a36f03",
   "metadata": {},
   "source": [
    "### Decision Tree Classifier"
   ]
  },
  {
   "cell_type": "code",
   "execution_count": 127,
   "id": "0301e0d9",
   "metadata": {},
   "outputs": [],
   "source": [
    "def dtc(X_train,y_train,X_valid,y_valid,X_test,y_test):\n",
    "    best_depth=0;\n",
    "    best_acc=0;\n",
    "\n",
    "    for depth in range(1,6):\n",
    "        model =  DecisionTreeClassifier(class_weight=None, criterion='gini', max_depth=depth,\n",
    "                max_features=None, max_leaf_nodes=None,\n",
    "                min_impurity_decrease=0.0, min_impurity_split=None,\n",
    "                min_samples_leaf=1, min_samples_split=2,\n",
    "                min_weight_fraction_leaf=0.0, random_state=12345,\n",
    "                splitter='best')\n",
    "        model.fit(X_train, y_train)\n",
    "\n",
    "        predictions_valid = model.predict(X_valid)# < find the predictions using validation set >\n",
    "\n",
    "        print('max_depth =',depth,': ',end='')\n",
    "        acc=accuracy_score(y_valid, predictions_valid)\n",
    "        print(acc)\n",
    "        if acc>best_acc :\n",
    "            best_acc=acc\n",
    "            best_depth=depth\n",
    "            best_model=model\n",
    "    print('Best depth in training test =',best_depth,'. ')\n",
    "    predictions=best_model.predict(X_test)\n",
    "    acc=accuracy_score(y_test, predictions)\n",
    "    print('Accuracy at this depth in the validation test:',acc)\n",
    "    return acc"
   ]
  },
  {
   "cell_type": "code",
   "execution_count": 128,
   "id": "77c15fa3",
   "metadata": {
    "scrolled": true
   },
   "outputs": [
    {
     "name": "stdout",
     "output_type": "stream",
     "text": [
      "For the 6:2:2 split we get the folowing accuracy: max_depth = 1 : 0.7527216174183515\n",
      "max_depth = 2 : 0.776049766718507\n",
      "max_depth = 3 : 0.7869362363919129\n",
      "max_depth = 4 : 0.776049766718507\n",
      "max_depth = 5 : 0.7822706065318819\n",
      "Best depth in training test = 3 . \n",
      "Accuracy at this depth in the validation test: 0.7853810264385692\n",
      "For the 8:1:1 split we get the folowing accuracy: max_depth = 1 : 0.7445482866043613\n",
      "max_depth = 2 : 0.7601246105919003\n",
      "max_depth = 3 : 0.7819314641744548\n",
      "max_depth = 4 : 0.7850467289719626\n",
      "max_depth = 5 : 0.7975077881619937\n",
      "Best depth in training test = 5 . \n",
      "Accuracy at this depth in the validation test: 0.8012422360248447\n"
     ]
    }
   ],
   "source": [
    "print('For the 6:2:2 split we get the folowing accuracy: ',end='')\n",
    "result_models.loc['DTC','622']=dtc(X_train6,y_train6,X_valid2,y_valid2,X_test2,y_test2)\n",
    "print('For the 8:1:1 split we get the folowing accuracy: ',end='')\n",
    "result_models.loc['DTC','811']=dtc(X_train8,y_train8,X_valid1,y_valid1,X_test1,y_test1)"
   ]
  },
  {
   "cell_type": "markdown",
   "id": "0d4193da",
   "metadata": {},
   "source": [
    "We see that the 8:1:1 split give better results with the Decision Tree Classifier."
   ]
  },
  {
   "cell_type": "markdown",
   "id": "015f5542",
   "metadata": {},
   "source": [
    "### Random Forest Classifier"
   ]
  },
  {
   "cell_type": "code",
   "execution_count": 142,
   "id": "6f73a5b0",
   "metadata": {},
   "outputs": [],
   "source": [
    "def rfc(X_train,y_train,X_valid,y_valid,X_test,y_test):\n",
    "    # < create a loop for max_depth from 1 to 10 >\n",
    "    best_est=0;\n",
    "    best_acc=0;\n",
    "    for n_est in range(1,11):\n",
    "\n",
    "        model = RandomForestClassifier( n_estimators=n_est)\n",
    "        model.fit(X_train, y_train)\n",
    "\n",
    "        print('n_estimators =',n_est,': ',end='')\n",
    "        acc=model.score(X_valid, y_valid)\n",
    "        print(acc) \n",
    "        if acc>best_acc :\n",
    "            best_acc=acc\n",
    "            best_est=n_est\n",
    "            best_model=model\n",
    "    print('Best number of estimators applied on validation set =',best_est,': ',end='')\n",
    "    acc=best_model.score(X_test, y_test)\n",
    "    print(acc)\n",
    "    return(acc)"
   ]
  },
  {
   "cell_type": "code",
   "execution_count": 143,
   "id": "815a0c5c",
   "metadata": {},
   "outputs": [
    {
     "name": "stdout",
     "output_type": "stream",
     "text": [
      "For the 6:2:2 split we get the folowing reuslts:\n",
      "n_estimators = 1 : 0.7278382581648523\n",
      "n_estimators = 2 : 0.7465007776049767\n",
      "n_estimators = 3 : 0.76049766718507\n",
      "n_estimators = 4 : 0.7573872472783826\n",
      "n_estimators = 5 : 0.7636080870917574\n",
      "n_estimators = 6 : 0.7900466562986003\n",
      "n_estimators = 7 : 0.7853810264385692\n",
      "n_estimators = 8 : 0.7822706065318819\n",
      "n_estimators = 9 : 0.7869362363919129\n",
      "n_estimators = 10 : 0.7978227060653188\n",
      "Best number of estimators applied on validation set = 10 : 0.8040435458786936\n",
      "For the 8:1:1 split we get the folowing reuslts:\n",
      "n_estimators = 1 : 0.67601246105919\n",
      "n_estimators = 2 : 0.735202492211838\n",
      "n_estimators = 3 : 0.7383177570093458\n",
      "n_estimators = 4 : 0.7663551401869159\n",
      "n_estimators = 5 : 0.7258566978193146\n",
      "n_estimators = 6 : 0.8006230529595015\n",
      "n_estimators = 7 : 0.7757009345794392\n",
      "n_estimators = 8 : 0.7881619937694704\n",
      "n_estimators = 9 : 0.7663551401869159\n",
      "n_estimators = 10 : 0.7757009345794392\n",
      "Best number of estimators applied on validation set = 6 : 0.8260869565217391\n"
     ]
    }
   ],
   "source": [
    "print('For the 6:2:2 split we get the folowing reuslts:')\n",
    "result_models.loc['RFC','622']=rfc(X_train6,y_train6,X_valid2,y_valid2,X_test2,y_test2)\n",
    "print('For the 8:1:1 split we get the folowing reuslts:')\n",
    "result_models.loc['RFC','811']=rfc(X_train8,y_train8,X_valid1,y_valid1,X_test1,y_test1)"
   ]
  },
  {
   "cell_type": "markdown",
   "id": "a6795103",
   "metadata": {},
   "source": [
    "We see that the 8:1:1 split give better results with the Random Forest Classifier."
   ]
  },
  {
   "cell_type": "markdown",
   "id": "397a6930",
   "metadata": {},
   "source": [
    "### Logistics Regression"
   ]
  },
  {
   "cell_type": "markdown",
   "id": "cad92d9a",
   "metadata": {},
   "source": [
    "Since in Logistics Regression we do not make use of both a validation and test data, we will add the unused data back to the training set"
   ]
  },
  {
   "cell_type": "code",
   "execution_count": 148,
   "id": "8ce5bfb0",
   "metadata": {},
   "outputs": [],
   "source": [
    "def lr(X_train,y_train,X_valid,y_valid,X_test,y_test):\n",
    "    model = LogisticRegression(random_state=12345, solver='lbfgs') \n",
    "    model.fit(X_train.append(X_test), y_train.append(y_test)) \n",
    "    acc=model.score(X_valid, y_valid)\n",
    "    print( acc)\n",
    "    return acc"
   ]
  },
  {
   "cell_type": "code",
   "execution_count": 149,
   "id": "2399574f",
   "metadata": {
    "scrolled": true
   },
   "outputs": [
    {
     "name": "stdout",
     "output_type": "stream",
     "text": [
      "For the 6:2:2 split we get the folowing accuracy: 0.744945567651633\n",
      "For the 8:1:1 split we get the folowing accuracy: 0.7414330218068536\n"
     ]
    }
   ],
   "source": [
    "print('For the 6:2:2 split we get the folowing accuracy: ',end='')\n",
    "result_models.loc['LR','622']=lr(X_train6,y_train6,X_valid2,y_valid2,X_test2,y_test2)\n",
    "print('For the 8:1:1 split we get the folowing accuracy: ',end='')\n",
    "result_models.loc['LR','811']=lr(X_train8,y_train8,X_valid1,y_valid1,X_test1,y_test1)"
   ]
  },
  {
   "cell_type": "markdown",
   "id": "9079a4a2",
   "metadata": {},
   "source": [
    "We see that neither split give a satisfying result (an accuracy better than the target of 75%)."
   ]
  },
  {
   "cell_type": "markdown",
   "id": "79a3a984",
   "metadata": {},
   "source": [
    "### Sanity Check"
   ]
  },
  {
   "cell_type": "code",
   "execution_count": 99,
   "id": "0bb4620f",
   "metadata": {},
   "outputs": [
    {
     "data": {
      "text/html": [
       "<div>\n",
       "<style scoped>\n",
       "    .dataframe tbody tr th:only-of-type {\n",
       "        vertical-align: middle;\n",
       "    }\n",
       "\n",
       "    .dataframe tbody tr th {\n",
       "        vertical-align: top;\n",
       "    }\n",
       "\n",
       "    .dataframe thead th {\n",
       "        text-align: right;\n",
       "    }\n",
       "</style>\n",
       "<table border=\"1\" class=\"dataframe\">\n",
       "  <thead>\n",
       "    <tr style=\"text-align: right;\">\n",
       "      <th></th>\n",
       "      <th>calls</th>\n",
       "      <th>minutes</th>\n",
       "      <th>messages</th>\n",
       "      <th>mb_used</th>\n",
       "      <th>is_ultra</th>\n",
       "    </tr>\n",
       "  </thead>\n",
       "  <tbody>\n",
       "    <tr>\n",
       "      <th>3</th>\n",
       "      <td>106.0</td>\n",
       "      <td>745.53</td>\n",
       "      <td>81.0</td>\n",
       "      <td>8437.39</td>\n",
       "      <td>1</td>\n",
       "    </tr>\n",
       "    <tr>\n",
       "      <th>6</th>\n",
       "      <td>57.0</td>\n",
       "      <td>431.64</td>\n",
       "      <td>20.0</td>\n",
       "      <td>3738.90</td>\n",
       "      <td>1</td>\n",
       "    </tr>\n",
       "    <tr>\n",
       "      <th>8</th>\n",
       "      <td>7.0</td>\n",
       "      <td>43.39</td>\n",
       "      <td>3.0</td>\n",
       "      <td>2538.67</td>\n",
       "      <td>1</td>\n",
       "    </tr>\n",
       "    <tr>\n",
       "      <th>10</th>\n",
       "      <td>82.0</td>\n",
       "      <td>560.51</td>\n",
       "      <td>20.0</td>\n",
       "      <td>9619.53</td>\n",
       "      <td>1</td>\n",
       "    </tr>\n",
       "    <tr>\n",
       "      <th>14</th>\n",
       "      <td>108.0</td>\n",
       "      <td>587.90</td>\n",
       "      <td>0.0</td>\n",
       "      <td>14406.50</td>\n",
       "      <td>1</td>\n",
       "    </tr>\n",
       "    <tr>\n",
       "      <th>...</th>\n",
       "      <td>...</td>\n",
       "      <td>...</td>\n",
       "      <td>...</td>\n",
       "      <td>...</td>\n",
       "      <td>...</td>\n",
       "    </tr>\n",
       "    <tr>\n",
       "      <th>3201</th>\n",
       "      <td>56.0</td>\n",
       "      <td>419.42</td>\n",
       "      <td>59.0</td>\n",
       "      <td>5177.62</td>\n",
       "      <td>1</td>\n",
       "    </tr>\n",
       "    <tr>\n",
       "      <th>3203</th>\n",
       "      <td>53.0</td>\n",
       "      <td>390.39</td>\n",
       "      <td>85.0</td>\n",
       "      <td>30550.30</td>\n",
       "      <td>1</td>\n",
       "    </tr>\n",
       "    <tr>\n",
       "      <th>3208</th>\n",
       "      <td>164.0</td>\n",
       "      <td>1016.98</td>\n",
       "      <td>71.0</td>\n",
       "      <td>17787.52</td>\n",
       "      <td>1</td>\n",
       "    </tr>\n",
       "    <tr>\n",
       "      <th>3209</th>\n",
       "      <td>122.0</td>\n",
       "      <td>910.98</td>\n",
       "      <td>20.0</td>\n",
       "      <td>35124.90</td>\n",
       "      <td>1</td>\n",
       "    </tr>\n",
       "    <tr>\n",
       "      <th>3213</th>\n",
       "      <td>80.0</td>\n",
       "      <td>566.09</td>\n",
       "      <td>6.0</td>\n",
       "      <td>29480.52</td>\n",
       "      <td>1</td>\n",
       "    </tr>\n",
       "  </tbody>\n",
       "</table>\n",
       "<p>985 rows × 5 columns</p>\n",
       "</div>"
      ],
      "text/plain": [
       "      calls  minutes  messages   mb_used  is_ultra\n",
       "3     106.0   745.53      81.0   8437.39         1\n",
       "6      57.0   431.64      20.0   3738.90         1\n",
       "8       7.0    43.39       3.0   2538.67         1\n",
       "10     82.0   560.51      20.0   9619.53         1\n",
       "14    108.0   587.90       0.0  14406.50         1\n",
       "...     ...      ...       ...       ...       ...\n",
       "3201   56.0   419.42      59.0   5177.62         1\n",
       "3203   53.0   390.39      85.0  30550.30         1\n",
       "3208  164.0  1016.98      71.0  17787.52         1\n",
       "3209  122.0   910.98      20.0  35124.90         1\n",
       "3213   80.0   566.09       6.0  29480.52         1\n",
       "\n",
       "[985 rows x 5 columns]"
      ]
     },
     "execution_count": 99,
     "metadata": {},
     "output_type": "execute_result"
    }
   ],
   "source": [
    "behavior_data[behavior_data.is_ultra==1]"
   ]
  },
  {
   "cell_type": "code",
   "execution_count": 100,
   "id": "695c93b8",
   "metadata": {},
   "outputs": [
    {
     "data": {
      "text/plain": [
       "0.30647168637212197"
      ]
     },
     "execution_count": 100,
     "metadata": {},
     "output_type": "execute_result"
    }
   ],
   "source": [
    "len(behavior_data[behavior_data.is_ultra==1])/ len(behavior_data)"
   ]
  },
  {
   "cell_type": "markdown",
   "id": "a8d2707b",
   "metadata": {},
   "source": [
    "About 30% of the subscribers are in the Ultra program.\n",
    "Common sense would say that the top 30% of users are in the Ultra program. Let's see how this fare against the Machine Learning algorythms"
   ]
  },
  {
   "cell_type": "code",
   "execution_count": 101,
   "id": "3d05c3fa",
   "metadata": {},
   "outputs": [
    {
     "data": {
      "text/html": [
       "<div>\n",
       "<style scoped>\n",
       "    .dataframe tbody tr th:only-of-type {\n",
       "        vertical-align: middle;\n",
       "    }\n",
       "\n",
       "    .dataframe tbody tr th {\n",
       "        vertical-align: top;\n",
       "    }\n",
       "\n",
       "    .dataframe thead th {\n",
       "        text-align: right;\n",
       "    }\n",
       "</style>\n",
       "<table border=\"1\" class=\"dataframe\">\n",
       "  <thead>\n",
       "    <tr style=\"text-align: right;\">\n",
       "      <th></th>\n",
       "      <th>calls</th>\n",
       "      <th>minutes</th>\n",
       "      <th>messages</th>\n",
       "      <th>mb_used</th>\n",
       "      <th>is_ultra</th>\n",
       "    </tr>\n",
       "  </thead>\n",
       "  <tbody>\n",
       "    <tr>\n",
       "      <th>count</th>\n",
       "      <td>3214.000000</td>\n",
       "      <td>3214.000000</td>\n",
       "      <td>3214.000000</td>\n",
       "      <td>3214.000000</td>\n",
       "      <td>3214.000000</td>\n",
       "    </tr>\n",
       "    <tr>\n",
       "      <th>mean</th>\n",
       "      <td>63.038892</td>\n",
       "      <td>438.208787</td>\n",
       "      <td>38.281269</td>\n",
       "      <td>17207.673836</td>\n",
       "      <td>0.306472</td>\n",
       "    </tr>\n",
       "    <tr>\n",
       "      <th>std</th>\n",
       "      <td>33.236368</td>\n",
       "      <td>234.569872</td>\n",
       "      <td>36.148326</td>\n",
       "      <td>7570.968246</td>\n",
       "      <td>0.461100</td>\n",
       "    </tr>\n",
       "    <tr>\n",
       "      <th>min</th>\n",
       "      <td>0.000000</td>\n",
       "      <td>0.000000</td>\n",
       "      <td>0.000000</td>\n",
       "      <td>0.000000</td>\n",
       "      <td>0.000000</td>\n",
       "    </tr>\n",
       "    <tr>\n",
       "      <th>30%</th>\n",
       "      <td>45.000000</td>\n",
       "      <td>309.982000</td>\n",
       "      <td>14.000000</td>\n",
       "      <td>13637.495000</td>\n",
       "      <td>0.000000</td>\n",
       "    </tr>\n",
       "    <tr>\n",
       "      <th>50%</th>\n",
       "      <td>62.000000</td>\n",
       "      <td>430.600000</td>\n",
       "      <td>30.000000</td>\n",
       "      <td>16943.235000</td>\n",
       "      <td>0.000000</td>\n",
       "    </tr>\n",
       "    <tr>\n",
       "      <th>70%</th>\n",
       "      <td>78.000000</td>\n",
       "      <td>537.534000</td>\n",
       "      <td>50.000000</td>\n",
       "      <td>20397.059000</td>\n",
       "      <td>1.000000</td>\n",
       "    </tr>\n",
       "    <tr>\n",
       "      <th>max</th>\n",
       "      <td>244.000000</td>\n",
       "      <td>1632.060000</td>\n",
       "      <td>224.000000</td>\n",
       "      <td>49745.730000</td>\n",
       "      <td>1.000000</td>\n",
       "    </tr>\n",
       "  </tbody>\n",
       "</table>\n",
       "</div>"
      ],
      "text/plain": [
       "             calls      minutes     messages       mb_used     is_ultra\n",
       "count  3214.000000  3214.000000  3214.000000   3214.000000  3214.000000\n",
       "mean     63.038892   438.208787    38.281269  17207.673836     0.306472\n",
       "std      33.236368   234.569872    36.148326   7570.968246     0.461100\n",
       "min       0.000000     0.000000     0.000000      0.000000     0.000000\n",
       "30%      45.000000   309.982000    14.000000  13637.495000     0.000000\n",
       "50%      62.000000   430.600000    30.000000  16943.235000     0.000000\n",
       "70%      78.000000   537.534000    50.000000  20397.059000     1.000000\n",
       "max     244.000000  1632.060000   224.000000  49745.730000     1.000000"
      ]
     },
     "execution_count": 101,
     "metadata": {},
     "output_type": "execute_result"
    }
   ],
   "source": [
    "behavior_data.describe(percentiles=[.3, .7])"
   ]
  },
  {
   "cell_type": "markdown",
   "id": "794322e6",
   "metadata": {},
   "source": [
    "We see that every user that talked more than 537.53 minutes is in the top 30%"
   ]
  },
  {
   "cell_type": "code",
   "execution_count": 102,
   "id": "8a86799b",
   "metadata": {},
   "outputs": [],
   "source": [
    "behavior_data['sanity_check']=(behavior_data['minutes']>537.53)*1"
   ]
  },
  {
   "cell_type": "code",
   "execution_count": 103,
   "id": "7f6fe345",
   "metadata": {},
   "outputs": [
    {
     "data": {
      "text/html": [
       "<div>\n",
       "<style scoped>\n",
       "    .dataframe tbody tr th:only-of-type {\n",
       "        vertical-align: middle;\n",
       "    }\n",
       "\n",
       "    .dataframe tbody tr th {\n",
       "        vertical-align: top;\n",
       "    }\n",
       "\n",
       "    .dataframe thead th {\n",
       "        text-align: right;\n",
       "    }\n",
       "</style>\n",
       "<table border=\"1\" class=\"dataframe\">\n",
       "  <thead>\n",
       "    <tr style=\"text-align: right;\">\n",
       "      <th></th>\n",
       "      <th>calls</th>\n",
       "      <th>minutes</th>\n",
       "      <th>messages</th>\n",
       "      <th>mb_used</th>\n",
       "      <th>is_ultra</th>\n",
       "      <th>sanity_check</th>\n",
       "    </tr>\n",
       "  </thead>\n",
       "  <tbody>\n",
       "    <tr>\n",
       "      <th>0</th>\n",
       "      <td>40.0</td>\n",
       "      <td>311.90</td>\n",
       "      <td>83.0</td>\n",
       "      <td>19915.42</td>\n",
       "      <td>0</td>\n",
       "      <td>0</td>\n",
       "    </tr>\n",
       "    <tr>\n",
       "      <th>1</th>\n",
       "      <td>85.0</td>\n",
       "      <td>516.75</td>\n",
       "      <td>56.0</td>\n",
       "      <td>22696.96</td>\n",
       "      <td>0</td>\n",
       "      <td>0</td>\n",
       "    </tr>\n",
       "    <tr>\n",
       "      <th>2</th>\n",
       "      <td>77.0</td>\n",
       "      <td>467.66</td>\n",
       "      <td>86.0</td>\n",
       "      <td>21060.45</td>\n",
       "      <td>0</td>\n",
       "      <td>0</td>\n",
       "    </tr>\n",
       "    <tr>\n",
       "      <th>3</th>\n",
       "      <td>106.0</td>\n",
       "      <td>745.53</td>\n",
       "      <td>81.0</td>\n",
       "      <td>8437.39</td>\n",
       "      <td>1</td>\n",
       "      <td>1</td>\n",
       "    </tr>\n",
       "    <tr>\n",
       "      <th>4</th>\n",
       "      <td>66.0</td>\n",
       "      <td>418.74</td>\n",
       "      <td>1.0</td>\n",
       "      <td>14502.75</td>\n",
       "      <td>0</td>\n",
       "      <td>0</td>\n",
       "    </tr>\n",
       "    <tr>\n",
       "      <th>...</th>\n",
       "      <td>...</td>\n",
       "      <td>...</td>\n",
       "      <td>...</td>\n",
       "      <td>...</td>\n",
       "      <td>...</td>\n",
       "      <td>...</td>\n",
       "    </tr>\n",
       "    <tr>\n",
       "      <th>3209</th>\n",
       "      <td>122.0</td>\n",
       "      <td>910.98</td>\n",
       "      <td>20.0</td>\n",
       "      <td>35124.90</td>\n",
       "      <td>1</td>\n",
       "      <td>1</td>\n",
       "    </tr>\n",
       "    <tr>\n",
       "      <th>3210</th>\n",
       "      <td>25.0</td>\n",
       "      <td>190.36</td>\n",
       "      <td>0.0</td>\n",
       "      <td>3275.61</td>\n",
       "      <td>0</td>\n",
       "      <td>0</td>\n",
       "    </tr>\n",
       "    <tr>\n",
       "      <th>3211</th>\n",
       "      <td>97.0</td>\n",
       "      <td>634.44</td>\n",
       "      <td>70.0</td>\n",
       "      <td>13974.06</td>\n",
       "      <td>0</td>\n",
       "      <td>1</td>\n",
       "    </tr>\n",
       "    <tr>\n",
       "      <th>3212</th>\n",
       "      <td>64.0</td>\n",
       "      <td>462.32</td>\n",
       "      <td>90.0</td>\n",
       "      <td>31239.78</td>\n",
       "      <td>0</td>\n",
       "      <td>0</td>\n",
       "    </tr>\n",
       "    <tr>\n",
       "      <th>3213</th>\n",
       "      <td>80.0</td>\n",
       "      <td>566.09</td>\n",
       "      <td>6.0</td>\n",
       "      <td>29480.52</td>\n",
       "      <td>1</td>\n",
       "      <td>1</td>\n",
       "    </tr>\n",
       "  </tbody>\n",
       "</table>\n",
       "<p>3214 rows × 6 columns</p>\n",
       "</div>"
      ],
      "text/plain": [
       "      calls  minutes  messages   mb_used  is_ultra  sanity_check\n",
       "0      40.0   311.90      83.0  19915.42         0             0\n",
       "1      85.0   516.75      56.0  22696.96         0             0\n",
       "2      77.0   467.66      86.0  21060.45         0             0\n",
       "3     106.0   745.53      81.0   8437.39         1             1\n",
       "4      66.0   418.74       1.0  14502.75         0             0\n",
       "...     ...      ...       ...       ...       ...           ...\n",
       "3209  122.0   910.98      20.0  35124.90         1             1\n",
       "3210   25.0   190.36       0.0   3275.61         0             0\n",
       "3211   97.0   634.44      70.0  13974.06         0             1\n",
       "3212   64.0   462.32      90.0  31239.78         0             0\n",
       "3213   80.0   566.09       6.0  29480.52         1             1\n",
       "\n",
       "[3214 rows x 6 columns]"
      ]
     },
     "execution_count": 103,
     "metadata": {},
     "output_type": "execute_result"
    }
   ],
   "source": [
    "behavior_data"
   ]
  },
  {
   "cell_type": "markdown",
   "id": "c45d471e",
   "metadata": {},
   "source": [
    "We need to calculate the accuracy of the simple model we made. We use the following formula:\n",
    "$$accuracy=\\frac{total\\,number\\,of\\, events - mistaken\\, guesses}{total\\, number\\, of\\, events}$$"
   ]
  },
  {
   "cell_type": "markdown",
   "id": "633f8b4d",
   "metadata": {},
   "source": [
    "To get the number of incorrect guesses all we have to do is apply XOR between the `sanity_check` column and the `is_ultra` column and count the number of not null results."
   ]
  },
  {
   "cell_type": "code",
   "execution_count": 104,
   "id": "638d58cc",
   "metadata": {},
   "outputs": [
    {
     "data": {
      "text/plain": [
       "1060"
      ]
     },
     "execution_count": 104,
     "metadata": {},
     "output_type": "execute_result"
    }
   ],
   "source": [
    "behavior_data['mistaken']=np.bitwise_xor(behavior_data['is_ultra'],behavior_data['sanity_check'])\n",
    "mistaken_guesses=behavior_data['mistaken'].sum()\n",
    "mistaken_guesses"
   ]
  },
  {
   "cell_type": "code",
   "execution_count": 105,
   "id": "c9804a83",
   "metadata": {},
   "outputs": [
    {
     "data": {
      "text/plain": [
       "0.670192906036092"
      ]
     },
     "execution_count": 105,
     "metadata": {},
     "output_type": "execute_result"
    }
   ],
   "source": [
    "sanity_check_accuracy=(len(behavior_data)-mistaken_guesses)/len(behavior_data)\n",
    "sanity_check_accuracy"
   ]
  },
  {
   "cell_type": "markdown",
   "id": "497bca78",
   "metadata": {},
   "source": [
    "We get an accuracy of just $67\\%$ which is lower than all the other models examined."
   ]
  },
  {
   "cell_type": "markdown",
   "id": "01b0774c",
   "metadata": {},
   "source": [
    "## Overall Conclusion\n",
    "We have opened and explored the table. \n",
    "The data didn't require processing.\n",
    "We checked the correlation table to select our features that will be used in the learning models. We saw that each feature contributed relatively equally to the target.\n",
    "We split the data both in the 6:2:2 ratio and the 8:1:1 ratio, to understand which ratio would give better results."
   ]
  },
  {
   "cell_type": "markdown",
   "id": "73b945e7",
   "metadata": {},
   "source": [
    "We checked three models: **Decision Tree Classifier**, **Random Forest Classifier** and **Logistic Regression**. This is the tabel with the results we received."
   ]
  },
  {
   "cell_type": "code",
   "execution_count": 150,
   "id": "9e53dffb",
   "metadata": {},
   "outputs": [
    {
     "data": {
      "text/html": [
       "<div>\n",
       "<style scoped>\n",
       "    .dataframe tbody tr th:only-of-type {\n",
       "        vertical-align: middle;\n",
       "    }\n",
       "\n",
       "    .dataframe tbody tr th {\n",
       "        vertical-align: top;\n",
       "    }\n",
       "\n",
       "    .dataframe thead th {\n",
       "        text-align: right;\n",
       "    }\n",
       "</style>\n",
       "<table border=\"1\" class=\"dataframe\">\n",
       "  <thead>\n",
       "    <tr style=\"text-align: right;\">\n",
       "      <th></th>\n",
       "      <th>622</th>\n",
       "      <th>811</th>\n",
       "    </tr>\n",
       "  </thead>\n",
       "  <tbody>\n",
       "    <tr>\n",
       "      <th>DTC</th>\n",
       "      <td>0.785381</td>\n",
       "      <td>0.801242</td>\n",
       "    </tr>\n",
       "    <tr>\n",
       "      <th>RFC</th>\n",
       "      <td>0.804044</td>\n",
       "      <td>0.826087</td>\n",
       "    </tr>\n",
       "    <tr>\n",
       "      <th>LR</th>\n",
       "      <td>0.744946</td>\n",
       "      <td>0.741433</td>\n",
       "    </tr>\n",
       "  </tbody>\n",
       "</table>\n",
       "</div>"
      ],
      "text/plain": [
       "          622       811\n",
       "DTC  0.785381  0.801242\n",
       "RFC  0.804044  0.826087\n",
       "LR   0.744946  0.741433"
      ]
     },
     "execution_count": 150,
     "metadata": {},
     "output_type": "execute_result"
    }
   ],
   "source": [
    "result_models"
   ]
  },
  {
   "cell_type": "markdown",
   "id": "62e3005a",
   "metadata": {},
   "source": [
    "We see that all models got a better result than the sanity check model. Logistics Regression didn't succeed in giving a better accuracy than the minimal target which was 75%. (It is worth noting that the Logistics Regression split was actually 8:2 and 9:1. Even with extra training data this didn't improve enough the result)\n",
    "We see in most cases the 8:1:1 ratio gave better results. More training data gives better Learning Models."
   ]
  },
  {
   "cell_type": "markdown",
   "id": "245a9e84",
   "metadata": {},
   "source": [
    "The overal winner is: **Random Forest Classifier** with a 8:1:1 split. This gives an **0.826 accuracy**!"
   ]
  }
 ],
 "metadata": {
  "ExecuteTimeLog": [
   {
    "duration": 44872,
    "start_time": "2021-07-14T08:40:35.036Z"
   },
   {
    "duration": 4,
    "start_time": "2021-07-14T08:41:19.916Z"
   },
   {
    "duration": 2264,
    "start_time": "2021-07-14T08:41:19.923Z"
   },
   {
    "duration": 61,
    "start_time": "2021-07-14T08:41:22.190Z"
   },
   {
    "duration": 710,
    "start_time": "2021-07-14T08:41:22.254Z"
   },
   {
    "duration": 9,
    "start_time": "2021-07-14T08:41:22.967Z"
   },
   {
    "duration": 75,
    "start_time": "2021-07-14T08:41:22.979Z"
   },
   {
    "duration": 45,
    "start_time": "2021-07-14T08:41:23.058Z"
   },
   {
    "duration": 11,
    "start_time": "2021-07-14T08:41:23.110Z"
   },
   {
    "duration": 41,
    "start_time": "2021-07-14T08:41:23.125Z"
   },
   {
    "duration": 23,
    "start_time": "2021-07-14T08:41:23.201Z"
   },
   {
    "duration": 42,
    "start_time": "2021-07-14T08:41:23.226Z"
   },
   {
    "duration": 10,
    "start_time": "2021-07-14T08:41:23.302Z"
   },
   {
    "duration": 20,
    "start_time": "2021-07-14T08:41:23.315Z"
   },
   {
    "duration": 108,
    "start_time": "2021-07-14T08:41:23.338Z"
   },
   {
    "duration": 18,
    "start_time": "2021-07-14T08:41:23.448Z"
   },
   {
    "duration": 34,
    "start_time": "2021-07-14T08:41:23.469Z"
   },
   {
    "duration": 25,
    "start_time": "2021-07-14T08:41:23.506Z"
   },
   {
    "duration": 78,
    "start_time": "2021-07-14T08:41:23.534Z"
   },
   {
    "duration": 51,
    "start_time": "2021-07-14T08:41:23.615Z"
   },
   {
    "duration": 30,
    "start_time": "2021-07-14T08:41:23.669Z"
   },
   {
    "duration": 18,
    "start_time": "2021-07-14T08:41:23.702Z"
   },
   {
    "duration": 14,
    "start_time": "2021-07-14T08:41:23.723Z"
   },
   {
    "duration": 12,
    "start_time": "2021-07-14T08:41:23.740Z"
   },
   {
    "duration": 49,
    "start_time": "2021-07-14T08:41:23.754Z"
   },
   {
    "duration": 16,
    "start_time": "2021-07-14T08:41:23.806Z"
   },
   {
    "duration": 8,
    "start_time": "2021-07-14T08:41:23.828Z"
   },
   {
    "duration": 6,
    "start_time": "2021-07-14T08:41:23.839Z"
   },
   {
    "duration": 7,
    "start_time": "2021-07-14T08:41:23.848Z"
   },
   {
    "duration": 580,
    "start_time": "2021-07-14T08:41:23.857Z"
   },
   {
    "duration": 6,
    "start_time": "2021-07-14T08:41:24.439Z"
   },
   {
    "duration": 18,
    "start_time": "2021-07-14T08:41:24.447Z"
   },
   {
    "duration": 36,
    "start_time": "2021-07-14T08:41:24.468Z"
   },
   {
    "duration": 8,
    "start_time": "2021-07-14T08:41:24.507Z"
   },
   {
    "duration": 18,
    "start_time": "2021-07-14T08:41:24.518Z"
   },
   {
    "duration": 15,
    "start_time": "2021-07-14T08:41:24.539Z"
   },
   {
    "duration": 44,
    "start_time": "2021-07-14T08:41:24.557Z"
   },
   {
    "duration": 18,
    "start_time": "2021-07-14T08:41:24.605Z"
   },
   {
    "duration": 9,
    "start_time": "2021-07-14T08:41:24.626Z"
   },
   {
    "duration": 18,
    "start_time": "2021-07-14T08:41:24.637Z"
   },
   {
    "duration": 43,
    "start_time": "2021-07-14T08:41:24.657Z"
   },
   {
    "duration": 17,
    "start_time": "2021-07-14T08:41:24.704Z"
   },
   {
    "duration": 7,
    "start_time": "2021-07-14T08:41:24.724Z"
   },
   {
    "duration": 15,
    "start_time": "2021-07-14T08:41:24.733Z"
   },
   {
    "duration": 424,
    "start_time": "2021-07-14T08:41:24.751Z"
   },
   {
    "duration": 383,
    "start_time": "2021-07-14T08:41:25.178Z"
   },
   {
    "duration": 364,
    "start_time": "2021-07-14T08:41:25.564Z"
   },
   {
    "duration": 16,
    "start_time": "2021-07-14T08:41:25.931Z"
   },
   {
    "duration": 12,
    "start_time": "2021-07-14T08:41:25.950Z"
   },
   {
    "duration": 39,
    "start_time": "2021-07-14T08:41:25.964Z"
   },
   {
    "duration": 36,
    "start_time": "2021-07-14T08:41:26.008Z"
   },
   {
    "duration": 10,
    "start_time": "2021-07-14T08:41:26.047Z"
   },
   {
    "duration": 6,
    "start_time": "2021-07-14T08:50:52.967Z"
   },
   {
    "duration": 15,
    "start_time": "2021-07-14T08:53:55.979Z"
   },
   {
    "duration": 145,
    "start_time": "2021-07-14T08:58:22.933Z"
   },
   {
    "duration": 11,
    "start_time": "2021-07-14T08:58:25.284Z"
   },
   {
    "duration": 42967,
    "start_time": "2021-07-14T11:09:15.596Z"
   },
   {
    "duration": 5,
    "start_time": "2021-07-14T11:09:58.566Z"
   },
   {
    "duration": 2489,
    "start_time": "2021-07-14T11:09:58.575Z"
   },
   {
    "duration": 61,
    "start_time": "2021-07-14T11:10:01.067Z"
   },
   {
    "duration": 89,
    "start_time": "2021-07-14T11:10:01.131Z"
   },
   {
    "duration": 10,
    "start_time": "2021-07-14T11:10:01.222Z"
   },
   {
    "duration": 86,
    "start_time": "2021-07-14T11:10:01.235Z"
   },
   {
    "duration": 21,
    "start_time": "2021-07-14T11:10:01.325Z"
   },
   {
    "duration": 52,
    "start_time": "2021-07-14T11:10:01.356Z"
   },
   {
    "duration": 107,
    "start_time": "2021-07-14T11:10:01.411Z"
   },
   {
    "duration": 49,
    "start_time": "2021-07-14T11:10:01.521Z"
   },
   {
    "duration": 75,
    "start_time": "2021-07-14T11:10:01.573Z"
   },
   {
    "duration": 41,
    "start_time": "2021-07-14T11:10:01.650Z"
   },
   {
    "duration": 73,
    "start_time": "2021-07-14T11:10:01.694Z"
   },
   {
    "duration": 90,
    "start_time": "2021-07-14T11:10:01.770Z"
   },
   {
    "duration": 19,
    "start_time": "2021-07-14T11:10:01.863Z"
   },
   {
    "duration": 64,
    "start_time": "2021-07-14T11:10:01.885Z"
   },
   {
    "duration": 70,
    "start_time": "2021-07-14T11:10:01.952Z"
   },
   {
    "duration": 88,
    "start_time": "2021-07-14T11:10:02.025Z"
   },
   {
    "duration": 82,
    "start_time": "2021-07-14T11:10:02.115Z"
   },
   {
    "duration": 23,
    "start_time": "2021-07-14T11:10:02.199Z"
   },
   {
    "duration": 52,
    "start_time": "2021-07-14T11:10:02.225Z"
   },
   {
    "duration": 54,
    "start_time": "2021-07-14T11:10:02.283Z"
   },
   {
    "duration": 101,
    "start_time": "2021-07-14T11:10:02.340Z"
   },
   {
    "duration": 27,
    "start_time": "2021-07-14T11:10:02.443Z"
   },
   {
    "duration": 35,
    "start_time": "2021-07-14T11:10:02.472Z"
   },
   {
    "duration": 30,
    "start_time": "2021-07-14T11:10:02.509Z"
   },
   {
    "duration": 26,
    "start_time": "2021-07-14T11:10:02.541Z"
   },
   {
    "duration": 30,
    "start_time": "2021-07-14T11:10:02.569Z"
   },
   {
    "duration": 27,
    "start_time": "2021-07-14T11:10:02.601Z"
   },
   {
    "duration": 537,
    "start_time": "2021-07-14T11:10:02.631Z"
   },
   {
    "duration": 6,
    "start_time": "2021-07-14T11:10:03.171Z"
   },
   {
    "duration": 28,
    "start_time": "2021-07-14T11:10:03.180Z"
   },
   {
    "duration": 57,
    "start_time": "2021-07-14T11:10:03.211Z"
   },
   {
    "duration": 30,
    "start_time": "2021-07-14T11:10:03.270Z"
   },
   {
    "duration": 35,
    "start_time": "2021-07-14T11:10:03.303Z"
   },
   {
    "duration": 45,
    "start_time": "2021-07-14T11:10:03.340Z"
   },
   {
    "duration": 47,
    "start_time": "2021-07-14T11:10:03.388Z"
   },
   {
    "duration": 27,
    "start_time": "2021-07-14T11:10:03.437Z"
   },
   {
    "duration": 47,
    "start_time": "2021-07-14T11:10:03.467Z"
   },
   {
    "duration": 47,
    "start_time": "2021-07-14T11:10:03.516Z"
   },
   {
    "duration": 52,
    "start_time": "2021-07-14T11:10:03.565Z"
   },
   {
    "duration": 124,
    "start_time": "2021-07-14T11:10:03.620Z"
   },
   {
    "duration": 451,
    "start_time": "2021-07-14T11:10:03.747Z"
   },
   {
    "duration": 633,
    "start_time": "2021-07-14T11:10:03.568Z"
   },
   {
    "duration": 627,
    "start_time": "2021-07-14T11:10:03.576Z"
   },
   {
    "duration": 625,
    "start_time": "2021-07-14T11:10:03.580Z"
   },
   {
    "duration": 624,
    "start_time": "2021-07-14T11:10:03.584Z"
   },
   {
    "duration": 618,
    "start_time": "2021-07-14T11:10:03.591Z"
   },
   {
    "duration": 615,
    "start_time": "2021-07-14T11:10:03.596Z"
   },
   {
    "duration": 533,
    "start_time": "2021-07-14T11:10:03.682Z"
   },
   {
    "duration": 530,
    "start_time": "2021-07-14T11:10:03.686Z"
   },
   {
    "duration": 521,
    "start_time": "2021-07-14T11:10:03.698Z"
   },
   {
    "duration": 518,
    "start_time": "2021-07-14T11:10:03.702Z"
   },
   {
    "duration": 9,
    "start_time": "2021-07-14T11:10:15.252Z"
   },
   {
    "duration": 20,
    "start_time": "2021-07-14T11:10:15.729Z"
   },
   {
    "duration": 9,
    "start_time": "2021-07-14T11:10:56.175Z"
   },
   {
    "duration": 14,
    "start_time": "2021-07-14T11:10:56.532Z"
   },
   {
    "duration": 14,
    "start_time": "2021-07-14T11:10:56.863Z"
   },
   {
    "duration": 6,
    "start_time": "2021-07-14T11:10:57.132Z"
   },
   {
    "duration": 15,
    "start_time": "2021-07-14T11:10:57.334Z"
   },
   {
    "duration": 14,
    "start_time": "2021-07-14T11:10:57.566Z"
   },
   {
    "duration": 6,
    "start_time": "2021-07-14T11:10:57.821Z"
   },
   {
    "duration": 13,
    "start_time": "2021-07-14T11:10:58.319Z"
   },
   {
    "duration": 6,
    "start_time": "2021-07-14T11:10:58.640Z"
   },
   {
    "duration": 15,
    "start_time": "2021-07-14T11:10:58.988Z"
   },
   {
    "duration": 15,
    "start_time": "2021-07-14T11:10:59.310Z"
   },
   {
    "duration": 15,
    "start_time": "2021-07-14T11:10:59.782Z"
   },
   {
    "duration": 7,
    "start_time": "2021-07-14T11:11:00.077Z"
   },
   {
    "duration": 15,
    "start_time": "2021-07-14T11:11:00.883Z"
   },
   {
    "duration": 15,
    "start_time": "2021-07-14T11:11:08.715Z"
   },
   {
    "duration": 790,
    "start_time": "2021-07-14T11:11:15.152Z"
   },
   {
    "duration": 634,
    "start_time": "2021-07-14T11:11:15.311Z"
   },
   {
    "duration": 371,
    "start_time": "2021-07-14T11:11:16.100Z"
   },
   {
    "duration": 451,
    "start_time": "2021-07-14T11:11:16.474Z"
   },
   {
    "duration": 28,
    "start_time": "2021-07-14T11:11:16.927Z"
   },
   {
    "duration": 13,
    "start_time": "2021-07-14T11:11:17.084Z"
   },
   {
    "duration": 11,
    "start_time": "2021-07-14T11:11:17.794Z"
   },
   {
    "duration": 13,
    "start_time": "2021-07-14T11:11:19.854Z"
   },
   {
    "duration": 23,
    "start_time": "2021-07-14T11:11:20.795Z"
   },
   {
    "duration": 14,
    "start_time": "2021-07-14T11:11:21.866Z"
   },
   {
    "duration": 99,
    "start_time": "2021-07-14T11:13:22.368Z"
   },
   {
    "duration": 93,
    "start_time": "2021-07-14T11:13:32.110Z"
   },
   {
    "duration": 8,
    "start_time": "2021-07-14T11:13:40.676Z"
   },
   {
    "duration": 475,
    "start_time": "2021-07-14T11:13:46.041Z"
   },
   {
    "duration": 282,
    "start_time": "2021-07-14T11:17:17.837Z"
   },
   {
    "duration": 8,
    "start_time": "2021-07-14T11:17:23.439Z"
   },
   {
    "duration": 358,
    "start_time": "2021-07-14T11:17:24.972Z"
   },
   {
    "duration": 11,
    "start_time": "2021-07-14T11:19:29.626Z"
   },
   {
    "duration": 379,
    "start_time": "2021-07-14T11:19:30.971Z"
   },
   {
    "duration": 375,
    "start_time": "2021-07-14T11:21:02.830Z"
   },
   {
    "duration": 368,
    "start_time": "2021-07-14T11:21:25.311Z"
   },
   {
    "duration": 368,
    "start_time": "2021-07-14T11:22:30.425Z"
   },
   {
    "duration": 96,
    "start_time": "2021-07-14T11:56:24.438Z"
   },
   {
    "duration": 288,
    "start_time": "2021-07-14T12:14:05.176Z"
   },
   {
    "duration": 7,
    "start_time": "2021-07-14T12:14:20.426Z"
   },
   {
    "duration": 28,
    "start_time": "2021-07-14T12:15:53.257Z"
   },
   {
    "duration": 18,
    "start_time": "2021-07-14T12:16:01.133Z"
   },
   {
    "duration": 6,
    "start_time": "2021-07-14T12:17:55.601Z"
   },
   {
    "duration": 505,
    "start_time": "2021-07-14T12:17:59.921Z"
   },
   {
    "duration": 14,
    "start_time": "2021-07-14T12:19:48.601Z"
   },
   {
    "duration": 12,
    "start_time": "2021-07-14T12:24:13.201Z"
   },
   {
    "duration": 11,
    "start_time": "2021-07-14T12:24:19.986Z"
   },
   {
    "duration": 12,
    "start_time": "2021-07-14T12:24:24.298Z"
   },
   {
    "duration": 11,
    "start_time": "2021-07-14T12:24:32.985Z"
   },
   {
    "duration": 340,
    "start_time": "2021-07-14T12:24:46.444Z"
   },
   {
    "duration": 488,
    "start_time": "2021-07-14T12:24:49.471Z"
   },
   {
    "duration": 335,
    "start_time": "2021-07-14T12:24:53.297Z"
   },
   {
    "duration": 7,
    "start_time": "2021-07-14T12:27:00.074Z"
   },
   {
    "duration": 5,
    "start_time": "2021-07-14T12:27:06.136Z"
   },
   {
    "duration": 5,
    "start_time": "2021-07-14T12:47:20.475Z"
   },
   {
    "duration": 12,
    "start_time": "2021-07-14T12:47:48.919Z"
   },
   {
    "duration": 11,
    "start_time": "2021-07-14T13:13:53.754Z"
   },
   {
    "duration": 109,
    "start_time": "2021-07-14T13:16:37.245Z"
   },
   {
    "duration": 278,
    "start_time": "2021-07-14T14:46:03.948Z"
   },
   {
    "duration": 288,
    "start_time": "2021-07-14T14:49:00.021Z"
   },
   {
    "duration": 288,
    "start_time": "2021-07-14T14:49:09.734Z"
   },
   {
    "duration": 306,
    "start_time": "2021-07-14T14:49:29.370Z"
   },
   {
    "duration": 52,
    "start_time": "2021-07-14T14:50:08.038Z"
   },
   {
    "duration": 20,
    "start_time": "2021-07-14T14:51:21.144Z"
   },
   {
    "duration": 20,
    "start_time": "2021-07-14T14:51:30.368Z"
   },
   {
    "duration": 41,
    "start_time": "2021-07-14T14:54:01.131Z"
   },
   {
    "duration": 1275,
    "start_time": "2021-07-14T14:58:34.964Z"
   },
   {
    "duration": 38,
    "start_time": "2021-07-14T14:58:39.947Z"
   },
   {
    "duration": 3,
    "start_time": "2021-07-14T15:00:07.469Z"
   },
   {
    "duration": 92,
    "start_time": "2021-07-14T15:00:58.615Z"
   },
   {
    "duration": 85,
    "start_time": "2021-07-14T15:02:38.468Z"
   },
   {
    "duration": 5,
    "start_time": "2021-07-14T15:02:49.018Z"
   },
   {
    "duration": 15,
    "start_time": "2021-07-14T15:02:51.986Z"
   },
   {
    "duration": 15,
    "start_time": "2021-07-14T15:02:57.643Z"
   },
   {
    "duration": 15,
    "start_time": "2021-07-14T15:02:59.036Z"
   },
   {
    "duration": 25,
    "start_time": "2021-07-14T15:03:06.609Z"
   },
   {
    "duration": 14,
    "start_time": "2021-07-14T15:03:16.903Z"
   },
   {
    "duration": 73,
    "start_time": "2021-07-14T15:03:48.946Z"
   },
   {
    "duration": 62,
    "start_time": "2021-07-14T15:03:53.117Z"
   },
   {
    "duration": 33,
    "start_time": "2021-07-14T15:03:57.993Z"
   },
   {
    "duration": 5,
    "start_time": "2021-07-14T16:46:27.431Z"
   },
   {
    "duration": 6,
    "start_time": "2021-07-14T16:46:53.546Z"
   },
   {
    "duration": 33,
    "start_time": "2021-07-14T16:46:59.114Z"
   },
   {
    "duration": 40,
    "start_time": "2021-07-14T16:47:05.099Z"
   },
   {
    "duration": 38,
    "start_time": "2021-07-14T16:48:25.190Z"
   },
   {
    "duration": 15,
    "start_time": "2021-07-14T16:48:32.020Z"
   },
   {
    "duration": 18,
    "start_time": "2021-07-14T16:48:47.864Z"
   },
   {
    "duration": 4,
    "start_time": "2021-07-14T16:49:21.753Z"
   },
   {
    "duration": 749,
    "start_time": "2021-07-14T16:49:23.820Z"
   },
   {
    "duration": 5,
    "start_time": "2021-07-14T16:49:43.719Z"
   },
   {
    "duration": 14,
    "start_time": "2021-07-14T16:49:44.693Z"
   },
   {
    "duration": 14,
    "start_time": "2021-07-14T16:49:50.940Z"
   },
   {
    "duration": 5,
    "start_time": "2021-07-14T16:50:07.051Z"
   },
   {
    "duration": 19,
    "start_time": "2021-07-14T16:50:15.042Z"
   },
   {
    "duration": 16,
    "start_time": "2021-07-14T16:50:36.619Z"
   },
   {
    "duration": 7,
    "start_time": "2021-07-14T16:50:52.526Z"
   },
   {
    "duration": 17,
    "start_time": "2021-07-14T16:50:55.683Z"
   },
   {
    "duration": 2293,
    "start_time": "2021-07-14T16:53:41.384Z"
   },
   {
    "duration": 2398,
    "start_time": "2021-07-14T16:53:53.517Z"
   },
   {
    "duration": 3273,
    "start_time": "2021-07-14T16:54:45.937Z"
   },
   {
    "duration": 12,
    "start_time": "2021-07-14T16:55:05.700Z"
   },
   {
    "duration": 773,
    "start_time": "2021-07-14T16:56:30.744Z"
   },
   {
    "duration": 14,
    "start_time": "2021-07-14T17:00:00.800Z"
   },
   {
    "duration": 9,
    "start_time": "2021-07-14T17:00:44.142Z"
   },
   {
    "duration": 330,
    "start_time": "2021-07-14T17:00:45.005Z"
   },
   {
    "duration": 8,
    "start_time": "2021-07-14T17:00:59.483Z"
   },
   {
    "duration": 327,
    "start_time": "2021-07-14T17:01:00.817Z"
   },
   {
    "duration": 8,
    "start_time": "2021-07-14T17:01:10.666Z"
   },
   {
    "duration": 347,
    "start_time": "2021-07-14T17:01:11.078Z"
   },
   {
    "duration": 1859,
    "start_time": "2021-07-15T06:10:37.566Z"
   },
   {
    "duration": 57,
    "start_time": "2021-07-15T06:10:41.220Z"
   },
   {
    "duration": 64,
    "start_time": "2021-07-15T06:10:42.609Z"
   },
   {
    "duration": 10,
    "start_time": "2021-07-15T06:10:43.040Z"
   },
   {
    "duration": 55,
    "start_time": "2021-07-15T06:10:43.439Z"
   },
   {
    "duration": 18,
    "start_time": "2021-07-15T06:10:43.603Z"
   },
   {
    "duration": 8,
    "start_time": "2021-07-15T06:10:44.007Z"
   },
   {
    "duration": 39,
    "start_time": "2021-07-15T06:10:45.263Z"
   },
   {
    "duration": 17,
    "start_time": "2021-07-15T06:10:45.432Z"
   },
   {
    "duration": 44,
    "start_time": "2021-07-15T06:10:45.715Z"
   },
   {
    "duration": 9,
    "start_time": "2021-07-15T06:10:45.857Z"
   },
   {
    "duration": 18,
    "start_time": "2021-07-15T06:10:45.985Z"
   },
   {
    "duration": 67,
    "start_time": "2021-07-15T06:10:48.782Z"
   },
   {
    "duration": 20,
    "start_time": "2021-07-15T06:10:49.693Z"
   },
   {
    "duration": 18,
    "start_time": "2021-07-15T06:10:49.929Z"
   },
   {
    "duration": 23,
    "start_time": "2021-07-15T06:10:50.135Z"
   },
   {
    "duration": 54,
    "start_time": "2021-07-15T06:10:51.723Z"
   },
   {
    "duration": 49,
    "start_time": "2021-07-15T06:10:53.536Z"
   },
   {
    "duration": 13,
    "start_time": "2021-07-15T06:10:55.230Z"
   },
   {
    "duration": 445,
    "start_time": "2021-07-15T06:11:16.548Z"
   },
   {
    "duration": 10,
    "start_time": "2021-07-15T06:11:16.986Z"
   },
   {
    "duration": 7,
    "start_time": "2021-07-15T06:11:16.990Z"
   },
   {
    "duration": 5,
    "start_time": "2021-07-15T06:11:16.994Z"
   },
   {
    "duration": 7,
    "start_time": "2021-07-15T06:11:17.216Z"
   },
   {
    "duration": 377,
    "start_time": "2021-07-15T06:11:17.869Z"
   },
   {
    "duration": -4,
    "start_time": "2021-07-15T06:11:18.252Z"
   },
   {
    "duration": 7,
    "start_time": "2021-07-15T06:11:18.815Z"
   },
   {
    "duration": 359,
    "start_time": "2021-07-15T06:11:18.937Z"
   },
   {
    "duration": -31,
    "start_time": "2021-07-15T06:11:19.330Z"
   },
   {
    "duration": -33,
    "start_time": "2021-07-15T06:11:19.333Z"
   },
   {
    "duration": 343,
    "start_time": "2021-07-15T06:11:19.355Z"
   },
   {
    "duration": 19,
    "start_time": "2021-07-15T06:11:19.682Z"
   },
   {
    "duration": 16,
    "start_time": "2021-07-15T06:11:19.687Z"
   },
   {
    "duration": 328,
    "start_time": "2021-07-15T06:11:19.774Z"
   },
   {
    "duration": 18,
    "start_time": "2021-07-15T06:11:20.086Z"
   },
   {
    "duration": 16,
    "start_time": "2021-07-15T06:11:20.090Z"
   },
   {
    "duration": 405,
    "start_time": "2021-07-15T06:11:20.240Z"
   },
   {
    "duration": 21,
    "start_time": "2021-07-15T06:11:20.627Z"
   },
   {
    "duration": 18,
    "start_time": "2021-07-15T06:11:20.632Z"
   },
   {
    "duration": 12,
    "start_time": "2021-07-15T06:11:20.715Z"
   },
   {
    "duration": 9,
    "start_time": "2021-07-15T06:11:21.177Z"
   },
   {
    "duration": 664,
    "start_time": "2021-07-15T06:11:21.318Z"
   },
   {
    "duration": -49,
    "start_time": "2021-07-15T06:11:22.034Z"
   },
   {
    "duration": 654,
    "start_time": "2021-07-15T06:11:22.083Z"
   },
   {
    "duration": -3,
    "start_time": "2021-07-15T06:11:22.742Z"
   },
   {
    "duration": -4,
    "start_time": "2021-07-15T06:11:22.745Z"
   },
   {
    "duration": 11,
    "start_time": "2021-07-15T06:11:23.050Z"
   },
   {
    "duration": 5,
    "start_time": "2021-07-15T06:11:24.486Z"
   },
   {
    "duration": 324,
    "start_time": "2021-07-15T06:11:26.061Z"
   },
   {
    "duration": 367,
    "start_time": "2021-07-15T06:11:26.921Z"
   },
   {
    "duration": 331,
    "start_time": "2021-07-15T06:11:27.924Z"
   },
   {
    "duration": 52,
    "start_time": "2021-07-15T06:11:47.617Z"
   },
   {
    "duration": 10,
    "start_time": "2021-07-15T06:11:48.206Z"
   },
   {
    "duration": 11,
    "start_time": "2021-07-15T06:11:48.588Z"
   },
   {
    "duration": 12,
    "start_time": "2021-07-15T06:11:49.380Z"
   },
   {
    "duration": 3,
    "start_time": "2021-07-15T06:11:49.522Z"
   },
   {
    "duration": 5,
    "start_time": "2021-07-15T06:11:49.666Z"
   },
   {
    "duration": 16,
    "start_time": "2021-07-15T06:11:49.807Z"
   },
   {
    "duration": 5,
    "start_time": "2021-07-15T06:11:49.959Z"
   },
   {
    "duration": 21,
    "start_time": "2021-07-15T06:11:50.117Z"
   },
   {
    "duration": 29,
    "start_time": "2021-07-15T06:11:50.257Z"
   },
   {
    "duration": 6,
    "start_time": "2021-07-15T06:11:50.528Z"
   },
   {
    "duration": 11,
    "start_time": "2021-07-15T06:11:51.463Z"
   },
   {
    "duration": 6,
    "start_time": "2021-07-15T06:11:51.649Z"
   },
   {
    "duration": 17,
    "start_time": "2021-07-15T06:11:51.812Z"
   },
   {
    "duration": 7,
    "start_time": "2021-07-15T06:11:51.974Z"
   },
   {
    "duration": 8,
    "start_time": "2021-07-15T06:11:52.296Z"
   },
   {
    "duration": 520,
    "start_time": "2021-07-15T06:11:52.605Z"
   },
   {
    "duration": 2391,
    "start_time": "2021-07-15T06:11:53.128Z"
   },
   {
    "duration": 6,
    "start_time": "2021-07-15T06:11:55.522Z"
   },
   {
    "duration": 39,
    "start_time": "2021-07-15T06:11:55.531Z"
   },
   {
    "duration": 15,
    "start_time": "2021-07-15T06:11:55.573Z"
   },
   {
    "duration": 16,
    "start_time": "2021-07-15T06:11:55.590Z"
   },
   {
    "duration": 15,
    "start_time": "2021-07-15T06:11:55.609Z"
   },
   {
    "duration": 21,
    "start_time": "2021-07-15T06:11:55.627Z"
   },
   {
    "duration": 16,
    "start_time": "2021-07-15T06:11:55.651Z"
   },
   {
    "duration": 17,
    "start_time": "2021-07-15T06:11:55.669Z"
   },
   {
    "duration": 15,
    "start_time": "2021-07-15T06:11:55.688Z"
   },
   {
    "duration": 15,
    "start_time": "2021-07-15T06:11:55.705Z"
   },
   {
    "duration": 13,
    "start_time": "2021-07-15T06:11:55.723Z"
   },
   {
    "duration": 38,
    "start_time": "2021-07-15T06:11:55.739Z"
   },
   {
    "duration": 23,
    "start_time": "2021-07-15T06:11:55.780Z"
   },
   {
    "duration": 17,
    "start_time": "2021-07-15T06:11:55.806Z"
   },
   {
    "duration": 8,
    "start_time": "2021-07-15T06:11:56.000Z"
   },
   {
    "duration": 573,
    "start_time": "2021-07-15T06:11:56.156Z"
   },
   {
    "duration": 569,
    "start_time": "2021-07-15T06:11:56.732Z"
   },
   {
    "duration": 576,
    "start_time": "2021-07-15T06:11:57.303Z"
   },
   {
    "duration": 18,
    "start_time": "2021-07-15T06:11:57.881Z"
   },
   {
    "duration": 19,
    "start_time": "2021-07-15T06:11:57.902Z"
   },
   {
    "duration": 13,
    "start_time": "2021-07-15T06:11:58.027Z"
   },
   {
    "duration": 6,
    "start_time": "2021-07-15T06:12:00.141Z"
   },
   {
    "duration": 14,
    "start_time": "2021-07-15T06:12:00.623Z"
   },
   {
    "duration": 25,
    "start_time": "2021-07-15T06:12:01.325Z"
   },
   {
    "duration": 33,
    "start_time": "2021-07-15T06:12:12.385Z"
   },
   {
    "duration": 13,
    "start_time": "2021-07-15T06:12:22.988Z"
   },
   {
    "duration": 32,
    "start_time": "2021-07-15T06:12:26.625Z"
   }
  ],
  "kernelspec": {
   "display_name": "Python 3 (ipykernel)",
   "language": "python",
   "name": "python3"
  },
  "language_info": {
   "codemirror_mode": {
    "name": "ipython",
    "version": 3
   },
   "file_extension": ".py",
   "mimetype": "text/x-python",
   "name": "python",
   "nbconvert_exporter": "python",
   "pygments_lexer": "ipython3",
   "version": "3.9.13"
  },
  "toc": {
   "base_numbering": 1,
   "nav_menu": {},
   "number_sections": true,
   "sideBar": true,
   "skip_h1_title": true,
   "title_cell": "Table of Contents",
   "title_sidebar": "Contents",
   "toc_cell": false,
   "toc_position": {},
   "toc_section_display": true,
   "toc_window_display": false
  }
 },
 "nbformat": 4,
 "nbformat_minor": 5
}
